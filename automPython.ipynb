{
 "cells": [
  {
   "cell_type": "code",
   "execution_count": null,
   "id": "04c6b8dd",
   "metadata": {},
   "outputs": [],
   "source": [
    "import pandas as pd"
   ]
  },
  {
   "cell_type": "code",
   "execution_count": null,
   "id": "dba78769",
   "metadata": {},
   "outputs": [],
   "source": [
    "pip install pandas openpyxl\n"
   ]
  },
  {
   "cell_type": "code",
   "execution_count": null,
   "id": "a918bcd7",
   "metadata": {},
   "outputs": [],
   "source": [
    "# 📥 Carregar a planilha\n",
    "arquivo = '/home/victor87/Área de trabalho/ciência de dados/automação/planilha_vendas.xlsx'  \n",
    "df = pd.read_excel(arquivo)"
   ]
  },
  {
   "cell_type": "code",
   "execution_count": null,
   "id": "a628fdac",
   "metadata": {},
   "outputs": [],
   "source": [
    "print(\"Colunas disponíveis:\")\n",
    "print(df.columns)  "
   ]
  },
  {
   "cell_type": "code",
   "execution_count": null,
   "id": "7cb69215",
   "metadata": {},
   "outputs": [],
   "source": [
    "# 🗓️ Definir intervalo de datas (permitindo DD/MM/AAAA)\n",
    "data_inicial = pd.to_datetime(input(\"Digite a data inicial (DD/MM/AAAA): \"), dayfirst=True)\n",
    "data_final = pd.to_datetime(input(\"Digite a data final (DD/MM/AAAA): \"), dayfirst=True)\n",
    "\n",
    "# 🔍 Filtrar os dados pela coluna de data\n",
    "coluna_data = 'Data_Venda'  \n",
    "\n",
    "df[coluna_data] = pd.to_datetime(df[coluna_data], errors='coerce')\n",
    "\n",
    "# Aplicar o filtro\n",
    "filtro = (df[coluna_data] >= data_inicial) & (df[coluna_data] <= data_final)\n",
    "dados_filtrados = df.loc[filtro]\n",
    "\n",
    "# 🗓️ Remover horário e deixar só a data\n",
    "dados_filtrados[coluna_data] = dados_filtrados[coluna_data].dt.date\n",
    "\n",
    "print(\"\\n📄 Dados filtrados:\")\n",
    "print(dados_filtrados)\n",
    "\n",
    "# 💾 Salvar em uma nova planilha\n",
    "dados_filtrados.to_excel('dados_filtrados.xlsx', index=False)\n",
    "print(\"\\n✅ Dados salvos no arquivo 'dados_filtrados.xlsx'\")"
   ]
  }
 ],
 "metadata": {
  "kernelspec": {
   "display_name": "base",
   "language": "python",
   "name": "python3"
  },
  "language_info": {
   "codemirror_mode": {
    "name": "ipython",
    "version": 3
   },
   "file_extension": ".py",
   "mimetype": "text/x-python",
   "name": "python",
   "nbconvert_exporter": "python",
   "pygments_lexer": "ipython3",
   "version": "3.12.7"
  }
 },
 "nbformat": 4,
 "nbformat_minor": 5
}
